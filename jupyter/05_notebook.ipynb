{
 "cells": [
  {
   "cell_type": "markdown",
   "metadata": {},
   "source": [
    "# PySpark Demo Notebook 5\n",
    "\n",
    "## Contents\n",
    "\n",
    "1. [Setup Spark](#Setup-Spark)\n",
    "2. [Load Kaggle Data](#Load-Kaggle-Dataset)\n",
    "3. [Analyze Data with Spark SQL](#Analyze-Data-with-Spark-SQL)\n",
    "4. [Graph Data with Plotly](#Graph-Data-with-Plotly)\n",
    "\n",
    "## Requirements\n",
    "\n",
    "1. Create a free [Plotly Chart Studio](https://chart-studio.plot.ly) account\n",
    "2. Generate a Plotly API key\n",
    "3. Place Plotly username and API key to .env file\n",
    "\n",
    "## Background\n",
    "\n",
    "_Prepared by: [Gary A. Stafford](https://twitter.com/GaryStafford)   \n",
    "Associated article: [Getting Started with Data Analytics using Jupyter Notebooks, PySpark, and Docker](https://wp.me/p1RD28-6Fj)_"
   ]
  },
  {
   "cell_type": "markdown",
   "metadata": {},
   "source": [
    "### Setup Spark\n",
    "Setup the SparkSession, the entry point to programming Spark with the Dataset and DataFrame API."
   ]
  },
  {
   "cell_type": "code",
   "execution_count": 1,
   "metadata": {
    "ExecuteTime": {
     "end_time": "2019-12-06T22:31:06.448034Z",
     "start_time": "2019-12-06T22:31:06.070195Z"
    }
   },
   "outputs": [],
   "source": [
    "from pyspark.sql import SparkSession"
   ]
  },
  {
   "cell_type": "code",
   "execution_count": 2,
   "metadata": {
    "ExecuteTime": {
     "end_time": "2019-12-06T22:31:12.549446Z",
     "start_time": "2019-12-06T22:31:06.450315Z"
    }
   },
   "outputs": [],
   "source": [
    "# reference: https://spark.apache.org/docs/latest/configuration.html#viewing-spark-properties\n",
    "spark = SparkSession \\\n",
    "    .builder \\\n",
    "    .appName('05_notebook') \\\n",
    "    .getOrCreate()"
   ]
  },
  {
   "cell_type": "code",
   "execution_count": 3,
   "metadata": {
    "ExecuteTime": {
     "end_time": "2019-12-06T22:31:12.607373Z",
     "start_time": "2019-12-06T22:31:12.554880Z"
    }
   },
   "outputs": [
    {
     "data": {
      "text/plain": [
       "[('spark.driver.host', '87ee13b37142'),\n",
       " ('spark.app.id', 'local-1577921437466'),\n",
       " ('spark.app.name', '05_notebook'),\n",
       " ('spark.driver.port', '33709'),\n",
       " ('spark.rdd.compress', 'True'),\n",
       " ('spark.serializer.objectStreamReset', '100'),\n",
       " ('spark.master', 'local[*]'),\n",
       " ('spark.executor.id', 'driver'),\n",
       " ('spark.submit.deployMode', 'client'),\n",
       " ('spark.ui.showConsoleProgress', 'true')]"
      ]
     },
     "execution_count": 3,
     "metadata": {},
     "output_type": "execute_result"
    }
   ],
   "source": [
    "spark.sparkContext.getConf().getAll()"
   ]
  },
  {
   "cell_type": "code",
   "execution_count": 5,
   "metadata": {
    "ExecuteTime": {
     "end_time": "2019-12-06T22:31:20.048786Z",
     "start_time": "2019-12-06T22:31:12.608668Z"
    },
    "scrolled": true
   },
   "outputs": [
    {
     "name": "stdout",
     "output_type": "stream",
     "text": [
      "DataFrame rows: 21293\n",
      "DataFrame schema: DataFrame[Date: timestamp, Time: string, Transaction: int, Item: string]\n",
      "+-------------------+--------+-----------+-------------+\n",
      "|Date               |Time    |Transaction|Item         |\n",
      "+-------------------+--------+-----------+-------------+\n",
      "|2016-10-30 00:00:00|09:58:11|1          |Bread        |\n",
      "|2016-10-30 00:00:00|10:05:34|2          |Scandinavian |\n",
      "|2016-10-30 00:00:00|10:05:34|2          |Scandinavian |\n",
      "|2016-10-30 00:00:00|10:07:57|3          |Hot chocolate|\n",
      "|2016-10-30 00:00:00|10:07:57|3          |Jam          |\n",
      "|2016-10-30 00:00:00|10:07:57|3          |Cookies      |\n",
      "|2016-10-30 00:00:00|10:08:41|4          |Muffin       |\n",
      "|2016-10-30 00:00:00|10:13:03|5          |Coffee       |\n",
      "|2016-10-30 00:00:00|10:13:03|5          |Pastry       |\n",
      "|2016-10-30 00:00:00|10:13:03|5          |Bread        |\n",
      "+-------------------+--------+-----------+-------------+\n",
      "only showing top 10 rows\n",
      "\n"
     ]
    }
   ],
   "source": [
    "df1 = spark.read \\\n",
    "    .format('csv') \\\n",
    "    .option('header', 'true') \\\n",
    "    .option('delimiter', ',') \\\n",
    "    .option('inferSchema', True) \\\n",
    "    .load('BreadBasket_DMS.csv')\n",
    "\n",
    "print('DataFrame rows: %d' % df1.count())\n",
    "print('DataFrame schema: %s' % df1)\n",
    "df1.show(10, False)"
   ]
  },
  {
   "cell_type": "markdown",
   "metadata": {},
   "source": [
    "## Analyze Data with Spark SQL\n",
    "Analyze the DataFrame's bakery data using Spark SQL."
   ]
  },
  {
   "cell_type": "code",
   "execution_count": 26,
   "metadata": {
    "ExecuteTime": {
     "end_time": "2019-12-06T22:31:27.157886Z",
     "start_time": "2019-12-06T22:31:20.050988Z"
    }
   },
   "outputs": [
    {
     "name": "stdout",
     "output_type": "stream",
     "text": [
      "DataFrame rows: 159\n",
      "+-------------------+-----+-------------+\n",
      "|               date|count|hourly_period|\n",
      "+-------------------+-----+-------------+\n",
      "|2016-10-30 00:00:00|  180|           20|\n",
      "|2016-10-31 00:00:00|  205|           20|\n",
      "|2016-11-01 00:00:00|  154|           20|\n",
      "|2016-11-02 00:00:00|  169|           20|\n",
      "|2016-11-03 00:00:00|  195|           20|\n",
      "|2016-11-04 00:00:00|  192|           20|\n",
      "|2016-11-05 00:00:00|  283|           20|\n",
      "|2016-11-06 00:00:00|  203|           20|\n",
      "|2016-11-07 00:00:00|  149|           20|\n",
      "|2016-11-08 00:00:00|  147|           20|\n",
      "+-------------------+-----+-------------+\n",
      "only showing top 10 rows\n",
      "\n",
      "None\n"
     ]
    }
   ],
   "source": [
    "df1.createOrReplaceTempView('tmp_bakery')\n",
    "\n",
    "df2 = spark.sql(\"SELECT date, count(*) as count \" + \"FROM tmp_bakery \" +\n",
    "                \"GROUP BY date \" + \"ORDER BY date\")\n",
    "\n",
    "print('DataFrame rows: %d' % df2.count())\n",
    "\n",
    "df3 = df2.withColumn(\"hourly_period\", df2['date'].substr(1, 2))\n",
    "\n",
    "print(df3.show(10))\n"
   ]
  },
  {
   "cell_type": "markdown",
   "metadata": {},
   "source": [
    "## Graph Data with Plotly\n",
    "Use [Plotly](https://plot.ly/python/) to create a chart showing bakery items sold over time. Demostrates linear fit and data smoothing.\n",
    "* [Plotly Python Open Source Graphing Library](https://plot.ly/python/)\n",
    "* [Smoothing in Python](https://plot.ly/python/smoothing/)\n",
    "* [Linear Fit in Python](https://plot.ly/python/linear-fits/)"
   ]
  },
  {
   "cell_type": "markdown",
   "metadata": {},
   "source": [
    "## Load Kaggle Dataset\n",
    "Load the Kaggle dataset from the CSV file, containing ~21K rows, into a Spark DataFrame."
   ]
  },
  {
   "cell_type": "code",
   "execution_count": 6,
   "metadata": {
    "ExecuteTime": {
     "end_time": "2019-12-06T22:31:28.708003Z",
     "start_time": "2019-12-06T22:31:27.163677Z"
    }
   },
   "outputs": [],
   "source": [
    "import os\n",
    "from dotenv import load_dotenv\n",
    "import chart_studio.tools\n",
    "import chart_studio.plotly as py\n",
    "import plotly.graph_objs as go\n",
    "from numpy import arange\n",
    "from scipy import stats, signal\n",
    "import warnings\n",
    "\n",
    "warnings.filterwarnings('ignore')"
   ]
  },
  {
   "cell_type": "code",
   "execution_count": 7,
   "metadata": {
    "ExecuteTime": {
     "end_time": "2019-12-06T22:31:28.750965Z",
     "start_time": "2019-12-06T22:31:28.721229Z"
    }
   },
   "outputs": [],
   "source": [
    "# load your plotly credentials\n",
    "load_dotenv()\n",
    "chart_studio.tools.set_credentials_file(username=os.getenv('PLOTLY_USERNAME'),\n",
    "                                        api_key=os.getenv('PLOTLY_API_KEY'))"
   ]
  },
  {
   "cell_type": "code",
   "execution_count": 8,
   "metadata": {
    "ExecuteTime": {
     "end_time": "2019-12-06T22:31:44.229096Z",
     "start_time": "2019-12-06T22:31:28.757479Z"
    }
   },
   "outputs": [
    {
     "data": {
      "text/html": [
       "\n",
       "        <iframe\n",
       "            width=\"100%\"\n",
       "            height=\"525px\"\n",
       "            src=\"https://plot.ly/~garystafford/20.embed\"\n",
       "            frameborder=\"0\"\n",
       "            allowfullscreen\n",
       "        ></iframe>\n",
       "        "
      ],
      "text/plain": [
       "<IPython.lib.display.IFrame at 0x7fa987ce8a58>"
      ]
     },
     "execution_count": 8,
     "metadata": {},
     "output_type": "execute_result"
    }
   ],
   "source": [
    "# convert the Spark DataFrame into a pandas DataFrame\n",
    "pdf = df2.toPandas()\n",
    "\n",
    "# calculates a linear least-squares regression using scipy\n",
    "xi = arange(0, len(pdf.index))\n",
    "slope, intercept, r_value, p_value, std_err = stats.linregress(\n",
    "    xi, pdf['count'])\n",
    "line = slope * xi + intercept\n",
    "\n",
    "layout = dict(title='Bakery Sales',\n",
    "              xaxis=dict(title='Month',\n",
    "                         showgrid=True,\n",
    "                         zeroline=True,\n",
    "                         showline=True,\n",
    "                         ticks='outside',\n",
    "                         tickangle=45,\n",
    "                         showticklabels=True),\n",
    "              yaxis=dict(title='Items Sold/Day',\n",
    "                         showgrid=True,\n",
    "                         zeroline=True,\n",
    "                         showline=True,\n",
    "                         ticks='outside',\n",
    "                         showticklabels=True))\n",
    "\n",
    "trace1 = go.Bar(x=pdf['date'], y=pdf['count'], name='Items Sold')\n",
    "trace2 = go.Scatter(x=pdf['date'], y=line, mode='lines', name='Linear Fit')\n",
    "trace3 = go.Scatter(x=pdf['date'],\n",
    "                    y=signal.savgol_filter(pdf['count'], 53, 3),\n",
    "                    mode='lines',\n",
    "                    name='Savitzky-Golay')\n",
    "data = [trace1, trace2, trace3]\n",
    "fig = dict(data=data, layout=layout)\n",
    "py.iplot(fig, filename='jupyter-basic_bar.html')"
   ]
  }
 ],
 "metadata": {
  "kernelspec": {
   "display_name": "Python 3",
   "language": "python",
   "name": "python3"
  },
  "language_info": {
   "codemirror_mode": {
    "name": "ipython",
    "version": 3
   },
   "file_extension": ".py",
   "mimetype": "text/x-python",
   "name": "python",
   "nbconvert_exporter": "python",
   "pygments_lexer": "ipython3",
   "version": "3.7.3"
  },
  "pycharm": {
   "stem_cell": {
    "cell_type": "raw",
    "metadata": {
     "collapsed": false
    },
    "source": []
   }
  },
  "toc": {
   "base_numbering": 1,
   "nav_menu": {},
   "number_sections": false,
   "sideBar": true,
   "skip_h1_title": false,
   "title_cell": "Table of Contents",
   "title_sidebar": "Contents",
   "toc_cell": false,
   "toc_position": {
    "height": "calc(100% - 180px)",
    "left": "10px",
    "top": "150px",
    "width": "260px"
   },
   "toc_section_display": true,
   "toc_window_display": true
  }
 },
 "nbformat": 4,
 "nbformat_minor": 4
}
